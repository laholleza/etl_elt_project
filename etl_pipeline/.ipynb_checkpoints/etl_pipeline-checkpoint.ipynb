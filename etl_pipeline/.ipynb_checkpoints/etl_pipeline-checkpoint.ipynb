{
 "cells": [
  {
   "cell_type": "code",
   "execution_count": 8,
   "id": "03c6436e",
   "metadata": {},
   "outputs": [],
   "source": [
    "import pandas as pd"
   ]
  },
  {
   "cell_type": "code",
   "execution_count": 9,
   "id": "dcf828e4",
   "metadata": {},
   "outputs": [],
   "source": [
    "df_csv = pd.read_csv(\"../data/input_data.csv\")"
   ]
  },
  {
   "cell_type": "code",
   "execution_count": 10,
   "id": "6cc5c440",
   "metadata": {},
   "outputs": [
    {
     "data": {
      "text/html": [
       "<div>\n",
       "<style scoped>\n",
       "    .dataframe tbody tr th:only-of-type {\n",
       "        vertical-align: middle;\n",
       "    }\n",
       "\n",
       "    .dataframe tbody tr th {\n",
       "        vertical-align: top;\n",
       "    }\n",
       "\n",
       "    .dataframe thead th {\n",
       "        text-align: right;\n",
       "    }\n",
       "</style>\n",
       "<table border=\"1\" class=\"dataframe\">\n",
       "  <thead>\n",
       "    <tr style=\"text-align: right;\">\n",
       "      <th></th>\n",
       "      <th>name</th>\n",
       "      <th>phone</th>\n",
       "      <th>email</th>\n",
       "      <th>postal_zip</th>\n",
       "      <th>region</th>\n",
       "      <th>country</th>\n",
       "    </tr>\n",
       "  </thead>\n",
       "  <tbody>\n",
       "    <tr>\n",
       "      <th>0</th>\n",
       "      <td>Iona Garrison</td>\n",
       "      <td>1-864-516-0374</td>\n",
       "      <td>justo.faucibus@protonmail.org</td>\n",
       "      <td>31475</td>\n",
       "      <td>Opolskie</td>\n",
       "      <td>France</td>\n",
       "    </tr>\n",
       "    <tr>\n",
       "      <th>1</th>\n",
       "      <td>George Cochran</td>\n",
       "      <td>(852) 850-5437</td>\n",
       "      <td>gravida.sagittis@hotmail.org</td>\n",
       "      <td>23673-535</td>\n",
       "      <td>Opolskie</td>\n",
       "      <td>France</td>\n",
       "    </tr>\n",
       "    <tr>\n",
       "      <th>2</th>\n",
       "      <td>Leigh Martinez</td>\n",
       "      <td>(438) 411-1195</td>\n",
       "      <td>parturient@aol.ca</td>\n",
       "      <td>379337</td>\n",
       "      <td>Maule</td>\n",
       "      <td>Sweden</td>\n",
       "    </tr>\n",
       "    <tr>\n",
       "      <th>3</th>\n",
       "      <td>Joelle Sanchez</td>\n",
       "      <td>1-222-938-6214</td>\n",
       "      <td>donec.feugiat.metus@google.com</td>\n",
       "      <td>3582</td>\n",
       "      <td>Nord-Pas-de-Calais</td>\n",
       "      <td>Vietnam</td>\n",
       "    </tr>\n",
       "    <tr>\n",
       "      <th>4</th>\n",
       "      <td>Chaim Christian</td>\n",
       "      <td>(355) 704-5131</td>\n",
       "      <td>curabitur.vel.lectus@icloud.com</td>\n",
       "      <td>5646-1179</td>\n",
       "      <td>Antwerpen</td>\n",
       "      <td>Chile</td>\n",
       "    </tr>\n",
       "  </tbody>\n",
       "</table>\n",
       "</div>"
      ],
      "text/plain": [
       "              name           phone                            email  \\\n",
       "0    Iona Garrison  1-864-516-0374    justo.faucibus@protonmail.org   \n",
       "1   George Cochran  (852) 850-5437     gravida.sagittis@hotmail.org   \n",
       "2   Leigh Martinez  (438) 411-1195                parturient@aol.ca   \n",
       "3   Joelle Sanchez  1-222-938-6214   donec.feugiat.metus@google.com   \n",
       "4  Chaim Christian  (355) 704-5131  curabitur.vel.lectus@icloud.com   \n",
       "\n",
       "  postal_zip              region  country  \n",
       "0      31475            Opolskie   France  \n",
       "1  23673-535            Opolskie   France  \n",
       "2     379337               Maule   Sweden  \n",
       "3       3582  Nord-Pas-de-Calais  Vietnam  \n",
       "4  5646-1179           Antwerpen    Chile  "
      ]
     },
     "execution_count": 10,
     "metadata": {},
     "output_type": "execute_result"
    }
   ],
   "source": [
    "df_csv.head()"
   ]
  },
  {
   "cell_type": "code",
   "execution_count": 11,
   "id": "1898204e",
   "metadata": {},
   "outputs": [
    {
     "data": {
      "text/html": [
       "<div>\n",
       "<style scoped>\n",
       "    .dataframe tbody tr th:only-of-type {\n",
       "        vertical-align: middle;\n",
       "    }\n",
       "\n",
       "    .dataframe tbody tr th {\n",
       "        vertical-align: top;\n",
       "    }\n",
       "\n",
       "    .dataframe thead th {\n",
       "        text-align: right;\n",
       "    }\n",
       "</style>\n",
       "<table border=\"1\" class=\"dataframe\">\n",
       "  <thead>\n",
       "    <tr style=\"text-align: right;\">\n",
       "      <th></th>\n",
       "      <th>name</th>\n",
       "      <th>phone</th>\n",
       "      <th>email</th>\n",
       "      <th>postal_zip</th>\n",
       "      <th>region</th>\n",
       "      <th>country</th>\n",
       "    </tr>\n",
       "  </thead>\n",
       "  <tbody>\n",
       "    <tr>\n",
       "      <th>10</th>\n",
       "      <td>Jesse Bright</td>\n",
       "      <td>1-872-260-1454</td>\n",
       "      <td>nisl@icloud.edu</td>\n",
       "      <td>25450</td>\n",
       "      <td>Innlandet</td>\n",
       "      <td>Sweden</td>\n",
       "    </tr>\n",
       "  </tbody>\n",
       "</table>\n",
       "</div>"
      ],
      "text/plain": [
       "            name           phone            email postal_zip     region  \\\n",
       "10  Jesse Bright  1-872-260-1454  nisl@icloud.edu      25450  Innlandet   \n",
       "\n",
       "   country  \n",
       "10  Sweden  "
      ]
     },
     "execution_count": 11,
     "metadata": {},
     "output_type": "execute_result"
    }
   ],
   "source": [
    "\"\"\"\n",
    "    Querying it with a conditional expression.\n",
    "    Show the value of the duplicated row.\n",
    "\"\"\"\n",
    "df_csv[df_csv.duplicated()] "
   ]
  },
  {
   "cell_type": "code",
   "execution_count": 12,
   "id": "2a2ca483",
   "metadata": {},
   "outputs": [],
   "source": [
    "fdata = df_csv.drop_duplicates() # By default keep='first'"
   ]
  },
  {
   "cell_type": "code",
   "execution_count": 13,
   "id": "aaacaba8",
   "metadata": {},
   "outputs": [
    {
     "name": "stdout",
     "output_type": "stream",
     "text": [
      "              name           phone                                   email  \\\n",
      "0    Iona Garrison  1-864-516-0374           justo.faucibus@protonmail.org   \n",
      "1   George Cochran  (852) 850-5437            gravida.sagittis@hotmail.org   \n",
      "2   Leigh Martinez  (438) 411-1195                       parturient@aol.ca   \n",
      "3   Joelle Sanchez  1-222-938-6214          donec.feugiat.metus@google.com   \n",
      "4  Chaim Christian  (355) 704-5131         curabitur.vel.lectus@icloud.com   \n",
      "5   Imelda Raymond  (746) 245-2171        ultrices.duis.volutpat@yahoo.org   \n",
      "6  Dexter Williams  1-427-418-0636  velit.pellentesque.ultricies@icloud.ca   \n",
      "7     Tad Carrillo  (813) 735-7431           nulla.semper.tellus@icloud.ca   \n",
      "8      Tatum Scott  1-468-683-7666                   facilisis@outlook.edu   \n",
      "9     Jesse Bright  1-872-260-1454                         nisl@icloud.edu   \n",
      "\n",
      "  postal_zip              region  country  \n",
      "0      31475            Opolskie   France  \n",
      "1  23673-535            Opolskie   France  \n",
      "2     379337               Maule   Sweden  \n",
      "3       3582  Nord-Pas-de-Calais  Vietnam  \n",
      "4  5646-1179           Antwerpen    Chile  \n",
      "5      85420          North West   Norway  \n",
      "6     80-464            Opolskie   France  \n",
      "7      41091            Opolskie   France  \n",
      "8     607585    Central Sulawesi  Austria  \n",
      "9      25450           Innlandet   Sweden  \n"
     ]
    }
   ],
   "source": [
    "print(fdata) # Show data"
   ]
  },
  {
   "cell_type": "code",
   "execution_count": 14,
   "id": "f6d9517a",
   "metadata": {},
   "outputs": [],
   "source": [
    "fdata.to_csv(\"../data/etl_result.csv\") # Load data to etl_result.csv"
   ]
  }
 ],
 "metadata": {
  "kernelspec": {
   "display_name": "Python 3 (ipykernel)",
   "language": "python",
   "name": "python3"
  },
  "language_info": {
   "codemirror_mode": {
    "name": "ipython",
    "version": 3
   },
   "file_extension": ".py",
   "mimetype": "text/x-python",
   "name": "python",
   "nbconvert_exporter": "python",
   "pygments_lexer": "ipython3",
   "version": "3.11.5"
  }
 },
 "nbformat": 4,
 "nbformat_minor": 5
}
