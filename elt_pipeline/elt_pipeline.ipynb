{
 "cells": [
  {
   "cell_type": "code",
   "execution_count": 1,
   "id": "d018a557",
   "metadata": {},
   "outputs": [],
   "source": [
    "import pandas as pd\n",
    "import psycopg2\n",
    "from sqlalchemy import create_engine"
   ]
  },
  {
   "cell_type": "code",
   "execution_count": 2,
   "id": "832b7c87",
   "metadata": {},
   "outputs": [],
   "source": [
    "# Read data inside the csv file\n",
    "df_raw = pd.read_csv('../data/input_data.csv')"
   ]
  },
  {
   "cell_type": "code",
   "execution_count": 3,
   "id": "7128eab1",
   "metadata": {
    "scrolled": true
   },
   "outputs": [
    {
     "name": "stdout",
     "output_type": "stream",
     "text": [
      "              name           phone                            email  \\\n",
      "0    Iona Garrison  1-864-516-0374    justo.faucibus@protonmail.org   \n",
      "1   George Cochran  (852) 850-5437     gravida.sagittis@hotmail.org   \n",
      "2   Leigh Martinez  (438) 411-1195                parturient@aol.ca   \n",
      "3   Joelle Sanchez  1-222-938-6214   donec.feugiat.metus@google.com   \n",
      "4  Chaim Christian  (355) 704-5131  curabitur.vel.lectus@icloud.com   \n",
      "\n",
      "  postal_zip              region  country  \n",
      "0      31475            Opolskie   France  \n",
      "1  23673-535            Opolskie   France  \n",
      "2     379337               Maule   Sweden  \n",
      "3       3582  Nord-Pas-de-Calais  Vietnam  \n",
      "4  5646-1179           Antwerpen    Chile  \n"
     ]
    }
   ],
   "source": [
    "# Overview of the data\n",
    "print(df_raw.head())"
   ]
  },
  {
   "cell_type": "code",
   "execution_count": 4,
   "id": "30a2fb51",
   "metadata": {},
   "outputs": [],
   "source": [
    "# Please replace username, password, host, port and mydatabase with your actual PostgreSQL credentials in the following format:\n",
    "db_connection_str = 'postgresql://<username>:<password>@<host>:<port>/<mydatabase>'"
   ]
  },
  {
   "cell_type": "code",
   "execution_count": 5,
   "id": "e3caf87c",
   "metadata": {},
   "outputs": [],
   "source": [
    "# Load raw data into PostgreSQL\n",
    "engine = create_engine(db_connection_str)"
   ]
  },
  {
   "cell_type": "code",
   "execution_count": 6,
   "id": "47780af5",
   "metadata": {},
   "outputs": [
    {
     "data": {
      "text/plain": [
       "11"
      ]
     },
     "execution_count": 6,
     "metadata": {},
     "output_type": "execute_result"
    }
   ],
   "source": [
    "# Load data to postgresSQL\n",
    "df_raw.to_sql('raw_data', con=engine, if_exists='replace', index=False)"
   ]
  },
  {
   "cell_type": "code",
   "execution_count": 7,
   "id": "3e806479",
   "metadata": {},
   "outputs": [],
   "source": [
    "\"\"\"\n",
    "This part is for transforming data.\n",
    "Connect to the PostgreSQL database using psycopg2.\n",
    "Replace the database credentials with your own.\n",
    "\"\"\"\n",
    "\n",
    "conn = psycopg2.connect(dbname=<dbname>, user=<user>, password=<password>, host=<host>, port=<port>)"
   ]
  },
  {
   "cell_type": "code",
   "execution_count": 8,
   "id": "d7874f7a",
   "metadata": {},
   "outputs": [],
   "source": [
    "# Allows python code to execute PostgreSQL command in a database session\n",
    "cur = conn.cursor()"
   ]
  },
  {
   "cell_type": "code",
   "execution_count": 9,
   "id": "390646c9",
   "metadata": {},
   "outputs": [],
   "source": [
    "\"\"\"\n",
    "Transform data. \n",
    "Create table for transformed data and select only data which country is France.\n",
    "\"\"\"\n",
    "\n",
    "transform_sql = \"\"\"\n",
    "    DROP TABLE IF EXISTS transform_data;\n",
    "    CREATE TABLE transform_data AS\n",
    "    SELECT\n",
    "        name,\n",
    "        phone,\n",
    "        email,\n",
    "        postal_zip,\n",
    "        region,\n",
    "        country\n",
    "    FROM\n",
    "        raw_data\n",
    "    WHERE\n",
    "        country = 'France';\n",
    "\"\"\""
   ]
  },
  {
   "cell_type": "code",
   "execution_count": 10,
   "id": "6eb74bf1",
   "metadata": {},
   "outputs": [],
   "source": [
    "# Execute sql query\n",
    "cur.execute(transform_sql)\n",
    "conn.commit()"
   ]
  },
  {
   "cell_type": "code",
   "execution_count": 11,
   "id": "fb8f75a9",
   "metadata": {},
   "outputs": [],
   "source": [
    "# Verify if the data was inserted\n",
    "t_data = \"\"\"\n",
    "    SELECT\n",
    "        name,\n",
    "        country\n",
    "    FROM\n",
    "        transform_data\n",
    "\"\"\"\n",
    "cur.execute(t_data)"
   ]
  },
  {
   "cell_type": "code",
   "execution_count": 12,
   "id": "96093da1",
   "metadata": {},
   "outputs": [],
   "source": [
    "# Get all the transformed data\n",
    "trans_data = cur.fetchall()"
   ]
  },
  {
   "cell_type": "code",
   "execution_count": 13,
   "id": "4e90be08",
   "metadata": {},
   "outputs": [
    {
     "name": "stdout",
     "output_type": "stream",
     "text": [
      "('Iona Garrison', 'France')\n",
      "('George Cochran', 'France')\n",
      "('Dexter Williams', 'France')\n",
      "('Tad Carrillo', 'France')\n"
     ]
    }
   ],
   "source": [
    "# Print all the transformed data\n",
    "for t in trans_data:\n",
    "    print(t)"
   ]
  },
  {
   "cell_type": "code",
   "execution_count": 14,
   "id": "831e0b54",
   "metadata": {},
   "outputs": [],
   "source": [
    "# Close the connection\n",
    "cur.close()\n",
    "conn.close()"
   ]
  }
 ],
 "metadata": {
  "kernelspec": {
   "display_name": "Python 3 (ipykernel)",
   "language": "python",
   "name": "python3"
  },
  "language_info": {
   "codemirror_mode": {
    "name": "ipython",
    "version": 3
   },
   "file_extension": ".py",
   "mimetype": "text/x-python",
   "name": "python",
   "nbconvert_exporter": "python",
   "pygments_lexer": "ipython3",
   "version": "3.11.5"
  }
 },
 "nbformat": 4,
 "nbformat_minor": 5
}
